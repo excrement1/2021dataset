{
  "nbformat": 4,
  "nbformat_minor": 0,
  "metadata": {
    "colab": {
      "name": "2021 pandas 병아리반2 - OpenAPI를 활용하여 코로나19 데이터 시각화하기.ipynb의 사본의 사본",
      "provenance": [],
      "collapsed_sections": [],
      "include_colab_link": true
    },
    "kernelspec": {
      "name": "python3",
      "display_name": "Python 3"
    },
    "language_info": {
      "name": "python"
    }
  },
  "cells": [
    {
      "cell_type": "markdown",
      "metadata": {
        "id": "view-in-github",
        "colab_type": "text"
      },
      "source": [
        "<a href=\"https://colab.research.google.com/github/excrement1/2021dataset/blob/master/2021_pandas_%EB%B3%91%EC%95%84%EB%A6%AC%EB%B0%982_OpenAPI%EB%A5%BC_%ED%99%9C%EC%9A%A9%ED%95%98%EC%97%AC_%EC%BD%94%EB%A1%9C%EB%82%9819_%EB%8D%B0%EC%9D%B4%ED%84%B0_%EC%8B%9C%EA%B0%81%ED%99%94%ED%95%98%EA%B8%B0_ipynb%EC%9D%98_%EC%82%AC%EB%B3%B8%EC%9D%98_%EC%82%AC%EB%B3%B8.ipynb\" target=\"_parent\"><img src=\"https://colab.research.google.com/assets/colab-badge.svg\" alt=\"Open In Colab\"/></a>"
      ]
    },
    {
      "cell_type": "code",
      "metadata": {
        "id": "BqozYEUTVg3D",
        "colab": {
          "base_uri": "https://localhost:8080/"
        },
        "outputId": "293146a3-a571-404d-c010-f76c97a95b61"
      },
      "source": [
        "# 한글 폰트 설치하기\n",
        "!apt -qq -y install fonts-nanum"
      ],
      "execution_count": null,
      "outputs": [
        {
          "output_type": "stream",
          "text": [
            "The following package was automatically installed and is no longer required:\n",
            "  libnvidia-common-460\n",
            "Use 'apt autoremove' to remove it.\n",
            "The following NEW packages will be installed:\n",
            "  fonts-nanum\n",
            "0 upgraded, 1 newly installed, 0 to remove and 34 not upgraded.\n",
            "Need to get 9,604 kB of archives.\n",
            "After this operation, 29.5 MB of additional disk space will be used.\n",
            "Selecting previously unselected package fonts-nanum.\n",
            "(Reading database ... 160690 files and directories currently installed.)\n",
            "Preparing to unpack .../fonts-nanum_20170925-1_all.deb ...\n",
            "Unpacking fonts-nanum (20170925-1) ...\n",
            "Setting up fonts-nanum (20170925-1) ...\n",
            "Processing triggers for fontconfig (2.12.6-0ubuntu2) ...\n"
          ],
          "name": "stdout"
        }
      ]
    },
    {
      "cell_type": "code",
      "metadata": {
        "id": "1gXyUxt5Vha_"
      },
      "source": [
        "# 폰트 세팅\n",
        "import matplotlib.pyplot as plt\n",
        "import matplotlib.font_manager as fm\n",
        "\n",
        "fontpath = '/usr/share/fonts/truetype/nanum/NanumGothic.ttf'\n",
        "font = fm.FontProperties(fname=fontpath, size=10)\n",
        "fm._rebuild()"
      ],
      "execution_count": null,
      "outputs": []
    },
    {
      "cell_type": "code",
      "metadata": {
        "id": "O8yxFgVkVhdw",
        "colab": {
          "base_uri": "https://localhost:8080/",
          "height": 279
        },
        "outputId": "52a8b613-5ac7-4447-f9c2-488d593139e4"
      },
      "source": [
        "# 위 코드 실행 후 [메뉴] - [런타임] - [런타임 다시 시작] - [예]\n",
        "import matplotlib.pyplot as plt\n",
        "plt.rc('font', family='NanumGothic') \n",
        "plt.title('한글 제목!!')\n",
        "plt.plot([1,2,3,5,4])\n",
        "plt.show()"
      ],
      "execution_count": null,
      "outputs": [
        {
          "output_type": "display_data",
          "data": {
            "image/png": "[encoded data removed]",
            "text/plain": [
              "<Figure size 432x288 with 1 Axes>"
            ]
          },
          "metadata": {
            "tags": [],
            "needs_background": "light"
          }
        }
      ]
    },
    {
      "cell_type": "markdown",
      "metadata": {
        "id": "3A1a6EN_hmKI"
      },
      "source": [
        "### 오픈 API : 인터넷에서 데이터 입력하는 방법!"
      ]
    },
    {
      "cell_type": "markdown",
      "metadata": {
        "id": "sc6TVI9nhr_a"
      },
      "source": [
        "https://data.seoul.go.kr/index.do"
      ]
    },
    {
      "cell_type": "code",
      "metadata": {
        "id": "5dXqpQXwRatw"
      },
      "source": [
        "import requests\n",
        "import pandas as pd"
      ],
      "execution_count": null,
      "outputs": []
    },
    {
      "cell_type": "code",
      "metadata": {
        "id": "KsGJX1e9RgC1"
      },
      "source": [
        "api_key = '61444e4a736578633131324547635347'\n",
        "url = 'http://openapi.seoul.go.kr:8088/'+api_key+'/json/Corona19Status/1/5/'"
      ],
      "execution_count": null,
      "outputs": []
    },
    {
      "cell_type": "code",
      "metadata": {
        "id": "w5HCANkVRgFq",
        "colab": {
          "base_uri": "https://localhost:8080/"
        },
        "outputId": "620fd1a8-c427-4754-ece0-d080cb45a90c"
      },
      "source": [
        "re = requests.get(url)\n",
        "re"
      ],
      "execution_count": null,
      "outputs": [
        {
          "output_type": "execute_result",
          "data": {
            "text/plain": [
              "<Response [200]>"
            ]
          },
          "metadata": {
            "tags": []
          },
          "execution_count": 4
        }
      ]
    },
    {
      "cell_type": "code",
      "metadata": {
        "id": "_Ef_4lBgilrx",
        "colab": {
          "base_uri": "https://localhost:8080/"
        },
        "outputId": "92aee512-458c-4a5a-8feb-45cdb50781b3"
      },
      "source": [
        "result = re.json()\n",
        "result"
      ],
      "execution_count": null,
      "outputs": [
        {
          "output_type": "execute_result",
          "data": {
            "text/plain": [
              "{'Corona19Status': {'RESULT': {'CODE': 'INFO-000', 'MESSAGE': '정상 처리되었습니다'},\n",
              "  'list_total_count': 37126,\n",
              "  'row': [{'CORONA19_AREA': '중랑구',\n",
              "    'CORONA19_CONTACT_HISTORY': '감염경로 조사중',\n",
              "    'CORONA19_CORRECTIVE': '',\n",
              "    'CORONA19_COUNTRY': '',\n",
              "    'CORONA19_DATE': '2021-04-26',\n",
              "    'CORONA19_ID': '37126',\n",
              "    'CORONA19_IDATE': '2021-04-27 11:24:39',\n",
              "    'CORONA19_LEAVE_STATUS': '',\n",
              "    'CORONA19_MDATE': '2021-04-27 11:24:39',\n",
              "    'CORONA19_MOVING_PATH': '',\n",
              "    'CORONA19_NO': '',\n",
              "    'CORONA19_PERSONAL': '',\n",
              "    'CORONA19_TRAVEL_HISTORY': ''},\n",
              "   {'CORONA19_AREA': '강동구',\n",
              "    'CORONA19_CONTACT_HISTORY': '감염경로 조사중',\n",
              "    'CORONA19_CORRECTIVE': '',\n",
              "    'CORONA19_COUNTRY': '',\n",
              "    'CORONA19_DATE': '2021-04-26',\n",
              "    'CORONA19_ID': '37125',\n",
              "    'CORONA19_IDATE': '2021-04-27 11:24:39',\n",
              "    'CORONA19_LEAVE_STATUS': '',\n",
              "    'CORONA19_MDATE': '2021-04-27 11:24:39',\n",
              "    'CORONA19_MOVING_PATH': '',\n",
              "    'CORONA19_NO': '',\n",
              "    'CORONA19_PERSONAL': '',\n",
              "    'CORONA19_TRAVEL_HISTORY': ''},\n",
              "   {'CORONA19_AREA': '강동구',\n",
              "    'CORONA19_CONTACT_HISTORY': '감염경로 조사중',\n",
              "    'CORONA19_CORRECTIVE': '',\n",
              "    'CORONA19_COUNTRY': '',\n",
              "    'CORONA19_DATE': '2021-04-26',\n",
              "    'CORONA19_ID': '37124',\n",
              "    'CORONA19_IDATE': '2021-04-27 11:24:39',\n",
              "    'CORONA19_LEAVE_STATUS': '',\n",
              "    'CORONA19_MDATE': '2021-04-27 11:24:39',\n",
              "    'CORONA19_MOVING_PATH': '',\n",
              "    'CORONA19_NO': '',\n",
              "    'CORONA19_PERSONAL': '',\n",
              "    'CORONA19_TRAVEL_HISTORY': ''},\n",
              "   {'CORONA19_AREA': '강동구',\n",
              "    'CORONA19_CONTACT_HISTORY': '타시도 확진자 접촉',\n",
              "    'CORONA19_CORRECTIVE': '',\n",
              "    'CORONA19_COUNTRY': '',\n",
              "    'CORONA19_DATE': '2021-04-26',\n",
              "    'CORONA19_ID': '37123',\n",
              "    'CORONA19_IDATE': '2021-04-27 11:24:39',\n",
              "    'CORONA19_LEAVE_STATUS': '',\n",
              "    'CORONA19_MDATE': '2021-04-27 11:24:39',\n",
              "    'CORONA19_MOVING_PATH': '',\n",
              "    'CORONA19_NO': '',\n",
              "    'CORONA19_PERSONAL': '',\n",
              "    'CORONA19_TRAVEL_HISTORY': ''},\n",
              "   {'CORONA19_AREA': '강동구',\n",
              "    'CORONA19_CONTACT_HISTORY': '감염경로 조사중',\n",
              "    'CORONA19_CORRECTIVE': '',\n",
              "    'CORONA19_COUNTRY': '',\n",
              "    'CORONA19_DATE': '2021-04-26',\n",
              "    'CORONA19_ID': '37122',\n",
              "    'CORONA19_IDATE': '2021-04-27 11:24:39',\n",
              "    'CORONA19_LEAVE_STATUS': '',\n",
              "    'CORONA19_MDATE': '2021-04-27 11:24:39',\n",
              "    'CORONA19_MOVING_PATH': '',\n",
              "    'CORONA19_NO': '',\n",
              "    'CORONA19_PERSONAL': '',\n",
              "    'CORONA19_TRAVEL_HISTORY': ''}]}}"
            ]
          },
          "metadata": {
            "tags": []
          },
          "execution_count": 5
        }
      ]
    },
    {
      "cell_type": "code",
      "metadata": {
        "id": "ZiqN97Hyiuuq",
        "colab": {
          "base_uri": "https://localhost:8080/"
        },
        "outputId": "a9794d8e-2c64-4b76-d0a4-dd6a35851725"
      },
      "source": [
        "result['Corona19Status']"
      ],
      "execution_count": null,
      "outputs": [
        {
          "output_type": "execute_result",
          "data": {
            "text/plain": [
              "{'RESULT': {'CODE': 'INFO-000', 'MESSAGE': '정상 처리되었습니다'},\n",
              " 'list_total_count': 37126,\n",
              " 'row': [{'CORONA19_AREA': '중랑구',\n",
              "   'CORONA19_CONTACT_HISTORY': '감염경로 조사중',\n",
              "   'CORONA19_CORRECTIVE': '',\n",
              "   'CORONA19_COUNTRY': '',\n",
              "   'CORONA19_DATE': '2021-04-26',\n",
              "   'CORONA19_ID': '37126',\n",
              "   'CORONA19_IDATE': '2021-04-27 11:24:39',\n",
              "   'CORONA19_LEAVE_STATUS': '',\n",
              "   'CORONA19_MDATE': '2021-04-27 11:24:39',\n",
              "   'CORONA19_MOVING_PATH': '',\n",
              "   'CORONA19_NO': '',\n",
              "   'CORONA19_PERSONAL': '',\n",
              "   'CORONA19_TRAVEL_HISTORY': ''},\n",
              "  {'CORONA19_AREA': '강동구',\n",
              "   'CORONA19_CONTACT_HISTORY': '감염경로 조사중',\n",
              "   'CORONA19_CORRECTIVE': '',\n",
              "   'CORONA19_COUNTRY': '',\n",
              "   'CORONA19_DATE': '2021-04-26',\n",
              "   'CORONA19_ID': '37125',\n",
              "   'CORONA19_IDATE': '2021-04-27 11:24:39',\n",
              "   'CORONA19_LEAVE_STATUS': '',\n",
              "   'CORONA19_MDATE': '2021-04-27 11:24:39',\n",
              "   'CORONA19_MOVING_PATH': '',\n",
              "   'CORONA19_NO': '',\n",
              "   'CORONA19_PERSONAL': '',\n",
              "   'CORONA19_TRAVEL_HISTORY': ''},\n",
              "  {'CORONA19_AREA': '강동구',\n",
              "   'CORONA19_CONTACT_HISTORY': '감염경로 조사중',\n",
              "   'CORONA19_CORRECTIVE': '',\n",
              "   'CORONA19_COUNTRY': '',\n",
              "   'CORONA19_DATE': '2021-04-26',\n",
              "   'CORONA19_ID': '37124',\n",
              "   'CORONA19_IDATE': '2021-04-27 11:24:39',\n",
              "   'CORONA19_LEAVE_STATUS': '',\n",
              "   'CORONA19_MDATE': '2021-04-27 11:24:39',\n",
              "   'CORONA19_MOVING_PATH': '',\n",
              "   'CORONA19_NO': '',\n",
              "   'CORONA19_PERSONAL': '',\n",
              "   'CORONA19_TRAVEL_HISTORY': ''},\n",
              "  {'CORONA19_AREA': '강동구',\n",
              "   'CORONA19_CONTACT_HISTORY': '타시도 확진자 접촉',\n",
              "   'CORONA19_CORRECTIVE': '',\n",
              "   'CORONA19_COUNTRY': '',\n",
              "   'CORONA19_DATE': '2021-04-26',\n",
              "   'CORONA19_ID': '37123',\n",
              "   'CORONA19_IDATE': '2021-04-27 11:24:39',\n",
              "   'CORONA19_LEAVE_STATUS': '',\n",
              "   'CORONA19_MDATE': '2021-04-27 11:24:39',\n",
              "   'CORONA19_MOVING_PATH': '',\n",
              "   'CORONA19_NO': '',\n",
              "   'CORONA19_PERSONAL': '',\n",
              "   'CORONA19_TRAVEL_HISTORY': ''},\n",
              "  {'CORONA19_AREA': '강동구',\n",
              "   'CORONA19_CONTACT_HISTORY': '감염경로 조사중',\n",
              "   'CORONA19_CORRECTIVE': '',\n",
              "   'CORONA19_COUNTRY': '',\n",
              "   'CORONA19_DATE': '2021-04-26',\n",
              "   'CORONA19_ID': '37122',\n",
              "   'CORONA19_IDATE': '2021-04-27 11:24:39',\n",
              "   'CORONA19_LEAVE_STATUS': '',\n",
              "   'CORONA19_MDATE': '2021-04-27 11:24:39',\n",
              "   'CORONA19_MOVING_PATH': '',\n",
              "   'CORONA19_NO': '',\n",
              "   'CORONA19_PERSONAL': '',\n",
              "   'CORONA19_TRAVEL_HISTORY': ''}]}"
            ]
          },
          "metadata": {
            "tags": []
          },
          "execution_count": 6
        }
      ]
    },
    {
      "cell_type": "code",
      "metadata": {
        "id": "KTsj3v5sivKj",
        "colab": {
          "base_uri": "https://localhost:8080/"
        },
        "outputId": "5ed5cc3c-1482-4ab8-d0cd-ef704876e85c"
      },
      "source": [
        "result['Corona19Status']['list_total_count']"
      ],
      "execution_count": null,
      "outputs": [
        {
          "output_type": "execute_result",
          "data": {
            "text/plain": [
              "37126"
            ]
          },
          "metadata": {
            "tags": []
          },
          "execution_count": 7
        }
      ]
    },
    {
      "cell_type": "code",
      "metadata": {
        "id": "FK11B4uRRgIA"
      },
      "source": [
        "total_num = result['Corona19Status']['list_total_count']"
      ],
      "execution_count": null,
      "outputs": []
    },
    {
      "cell_type": "code",
      "metadata": {
        "id": "muamgwidSG0a"
      },
      "source": [
        "ids = []\n",
        "corona_dates = []\n",
        "address = []\n",
        "corona_contact_detail = []\n",
        "status = []\n",
        "\n",
        "for i in range(total_num // 1000 + 1) :\n",
        "  end = (i+1) * 1000\n",
        "  start = (1000  * i) + 1\n",
        "\n",
        "  if end > total_num : \n",
        "    end = total_num\n",
        "\n",
        "  url = f'http://openapi.seoul.go.kr:8088/{api_key}/json/Corona19Status/{start}/{end}/'\n",
        "  re = requests.get(url)\n",
        "  result = re.json()\n",
        "\n",
        "  for row in result['Corona19Status']['row'] : \n",
        "    ids.append(row['CORONA19_ID'])\n",
        "    corona_dates.append(row['CORONA19_DATE'])\n",
        "    address.append(row['CORONA19_AREA'])\n",
        "    corona_contact_detail.append(row['CORONA19_CONTACT_HISTORY'])\n",
        "    status.append(row['CORONA19_LEAVE_STATUS'])\n",
        "\n",
        "df = pd.DataFrame([ids,corona_dates, address, corona_contact_detail, status])"
      ],
      "execution_count": null,
      "outputs": []
    },
    {
      "cell_type": "code",
      "metadata": {
        "id": "MxlnJfCIj_vG",
        "colab": {
          "base_uri": "https://localhost:8080/",
          "height": 395
        },
        "outputId": "44afe171-9fee-48e1-a5a3-a064413ec42b"
      },
      "source": [
        "df.head()"
      ],
      "execution_count": null,
      "outputs": [
        {
          "output_type": "execute_result",
          "data": {
            "text/html": [
              "<div>\n",
              "<style scoped>\n",
              "    .dataframe tbody tr th:only-of-type {\n",
              "        vertical-align: middle;\n",
              "    }\n",
              "\n",
              "    .dataframe tbody tr th {\n",
              "        vertical-align: top;\n",
              "    }\n",
              "\n",
              "    .dataframe thead th {\n",
              "        text-align: right;\n",
              "    }\n",
              "</style>\n",
              "<table border=\"1\" class=\"dataframe\">\n",
              "  <thead>\n",
              "    <tr style=\"text-align: right;\">\n",
              "      <th></th>\n",
              "      <th>0</th>\n",
              "      <th>1</th>\n",
              "      <th>2</th>\n",
              "      <th>3</th>\n",
              "      <th>4</th>\n",
              "      <th>5</th>\n",
              "      <th>6</th>\n",
              "      <th>7</th>\n",
              "      <th>8</th>\n",
              "      <th>9</th>\n",
              "      <th>10</th>\n",
              "      <th>11</th>\n",
              "      <th>12</th>\n",
              "      <th>13</th>\n",
              "      <th>14</th>\n",
              "      <th>15</th>\n",
              "      <th>16</th>\n",
              "      <th>17</th>\n",
              "      <th>18</th>\n",
              "      <th>19</th>\n",
              "      <th>20</th>\n",
              "      <th>21</th>\n",
              "      <th>22</th>\n",
              "      <th>23</th>\n",
              "      <th>24</th>\n",
              "      <th>25</th>\n",
              "      <th>26</th>\n",
              "      <th>27</th>\n",
              "      <th>28</th>\n",
              "      <th>29</th>\n",
              "      <th>30</th>\n",
              "      <th>31</th>\n",
              "      <th>32</th>\n",
              "      <th>33</th>\n",
              "      <th>34</th>\n",
              "      <th>35</th>\n",
              "      <th>36</th>\n",
              "      <th>37</th>\n",
              "      <th>38</th>\n",
              "      <th>39</th>\n",
              "      <th>...</th>\n",
              "      <th>37086</th>\n",
              "      <th>37087</th>\n",
              "      <th>37088</th>\n",
              "      <th>37089</th>\n",
              "      <th>37090</th>\n",
              "      <th>37091</th>\n",
              "      <th>37092</th>\n",
              "      <th>37093</th>\n",
              "      <th>37094</th>\n",
              "      <th>37095</th>\n",
              "      <th>37096</th>\n",
              "      <th>37097</th>\n",
              "      <th>37098</th>\n",
              "      <th>37099</th>\n",
              "      <th>37100</th>\n",
              "      <th>37101</th>\n",
              "      <th>37102</th>\n",
              "      <th>37103</th>\n",
              "      <th>37104</th>\n",
              "      <th>37105</th>\n",
              "      <th>37106</th>\n",
              "      <th>37107</th>\n",
              "      <th>37108</th>\n",
              "      <th>37109</th>\n",
              "      <th>37110</th>\n",
              "      <th>37111</th>\n",
              "      <th>37112</th>\n",
              "      <th>37113</th>\n",
              "      <th>37114</th>\n",
              "      <th>37115</th>\n",
              "      <th>37116</th>\n",
              "      <th>37117</th>\n",
              "      <th>37118</th>\n",
              "      <th>37119</th>\n",
              "      <th>37120</th>\n",
              "      <th>37121</th>\n",
              "      <th>37122</th>\n",
              "      <th>37123</th>\n",
              "      <th>37124</th>\n",
              "      <th>37125</th>\n",
              "    </tr>\n",
              "  </thead>\n",
              "  <tbody>\n",
              "    <tr>\n",
              "      <th>0</th>\n",
              "      <td>37126</td>\n",
              "      <td>37125</td>\n",
              "      <td>37124</td>\n",
              "      <td>37123</td>\n",
              "      <td>37122</td>\n",
              "      <td>37121</td>\n",
              "      <td>37120</td>\n",
              "      <td>37119</td>\n",
              "      <td>37118</td>\n",
              "      <td>37117</td>\n",
              "      <td>37116</td>\n",
              "      <td>37115</td>\n",
              "      <td>37114</td>\n",
              "      <td>37113</td>\n",
              "      <td>37112</td>\n",
              "      <td>37111</td>\n",
              "      <td>37110</td>\n",
              "      <td>37109</td>\n",
              "      <td>37108</td>\n",
              "      <td>37107</td>\n",
              "      <td>37106</td>\n",
              "      <td>37105</td>\n",
              "      <td>37104</td>\n",
              "      <td>37103</td>\n",
              "      <td>37102</td>\n",
              "      <td>37101</td>\n",
              "      <td>37100</td>\n",
              "      <td>37099</td>\n",
              "      <td>37098</td>\n",
              "      <td>37097</td>\n",
              "      <td>37096</td>\n",
              "      <td>37095</td>\n",
              "      <td>37094</td>\n",
              "      <td>37093</td>\n",
              "      <td>37092</td>\n",
              "      <td>37091</td>\n",
              "      <td>37090</td>\n",
              "      <td>37089</td>\n",
              "      <td>37088</td>\n",
              "      <td>37087</td>\n",
              "      <td>...</td>\n",
              "      <td>40</td>\n",
              "      <td>39</td>\n",
              "      <td>38</td>\n",
              "      <td>37</td>\n",
              "      <td>36</td>\n",
              "      <td>35</td>\n",
              "      <td>34</td>\n",
              "      <td>33</td>\n",
              "      <td>32</td>\n",
              "      <td>31</td>\n",
              "      <td>30</td>\n",
              "      <td>29</td>\n",
              "      <td>28</td>\n",
              "      <td>27</td>\n",
              "      <td>26</td>\n",
              "      <td>25</td>\n",
              "      <td>24</td>\n",
              "      <td>23</td>\n",
              "      <td>22</td>\n",
              "      <td>21</td>\n",
              "      <td>20</td>\n",
              "      <td>19</td>\n",
              "      <td>18</td>\n",
              "      <td>17</td>\n",
              "      <td>16</td>\n",
              "      <td>15</td>\n",
              "      <td>14</td>\n",
              "      <td>13</td>\n",
              "      <td>12</td>\n",
              "      <td>11</td>\n",
              "      <td>10</td>\n",
              "      <td>9</td>\n",
              "      <td>8</td>\n",
              "      <td>7</td>\n",
              "      <td>6</td>\n",
              "      <td>5</td>\n",
              "      <td>4</td>\n",
              "      <td>3</td>\n",
              "      <td>2</td>\n",
              "      <td>1</td>\n",
              "    </tr>\n",
              "    <tr>\n",
              "      <th>1</th>\n",
              "      <td>2021-04-26</td>\n",
              "      <td>2021-04-26</td>\n",
              "      <td>2021-04-26</td>\n",
              "      <td>2021-04-26</td>\n",
              "      <td>2021-04-26</td>\n",
              "      <td>2021-04-26</td>\n",
              "      <td>2021-04-26</td>\n",
              "      <td>2021-04-26</td>\n",
              "      <td>2021-04-26</td>\n",
              "      <td>2021-04-26</td>\n",
              "      <td>2021-04-26</td>\n",
              "      <td>2021-04-26</td>\n",
              "      <td>2021-04-26</td>\n",
              "      <td>2021-04-26</td>\n",
              "      <td>2021-04-26</td>\n",
              "      <td>2021-04-26</td>\n",
              "      <td>2021-04-26</td>\n",
              "      <td>2021-04-26</td>\n",
              "      <td>2021-04-26</td>\n",
              "      <td>2021-04-26</td>\n",
              "      <td>2021-04-26</td>\n",
              "      <td>2021-04-26</td>\n",
              "      <td>2021-04-26</td>\n",
              "      <td>2021-04-26</td>\n",
              "      <td>2021-04-26</td>\n",
              "      <td>2021-04-26</td>\n",
              "      <td>2021-04-26</td>\n",
              "      <td>2021-04-26</td>\n",
              "      <td>2021-04-26</td>\n",
              "      <td>2021-04-26</td>\n",
              "      <td>2021-04-26</td>\n",
              "      <td>2021-04-26</td>\n",
              "      <td>2021-04-26</td>\n",
              "      <td>2021-04-26</td>\n",
              "      <td>2021-04-26</td>\n",
              "      <td>2021-04-26</td>\n",
              "      <td>2021-04-26</td>\n",
              "      <td>2021-04-26</td>\n",
              "      <td>2021-04-26</td>\n",
              "      <td>2021-04-26</td>\n",
              "      <td>...</td>\n",
              "      <td>2020-02-25</td>\n",
              "      <td>2020-02-25</td>\n",
              "      <td>2020-02-25</td>\n",
              "      <td>2020-02-25</td>\n",
              "      <td>2020-02-24</td>\n",
              "      <td>2020-02-24</td>\n",
              "      <td>2020-02-25</td>\n",
              "      <td>2020-02-24</td>\n",
              "      <td>2020-02-24</td>\n",
              "      <td>2020-02-22</td>\n",
              "      <td>2020-02-22</td>\n",
              "      <td>2020-02-23</td>\n",
              "      <td>2020-02-23</td>\n",
              "      <td>2020-02-23</td>\n",
              "      <td>2020-02-22</td>\n",
              "      <td>2020-02-22</td>\n",
              "      <td>2020-02-22</td>\n",
              "      <td>2020-02-21</td>\n",
              "      <td>2020-02-21</td>\n",
              "      <td>2020-02-20</td>\n",
              "      <td>2020-02-20</td>\n",
              "      <td>2020-02-20</td>\n",
              "      <td>2020-02-20</td>\n",
              "      <td>2020-02-20</td>\n",
              "      <td>2020-02-19</td>\n",
              "      <td>2020-02-19</td>\n",
              "      <td>2020-02-16</td>\n",
              "      <td>2020-02-16</td>\n",
              "      <td>2020-02-06</td>\n",
              "      <td>2020-02-06</td>\n",
              "      <td>2020-02-05</td>\n",
              "      <td>2020-02-05</td>\n",
              "      <td>2020-02-02</td>\n",
              "      <td>2020-01-31</td>\n",
              "      <td>2020-01-31</td>\n",
              "      <td>2020-01-31</td>\n",
              "      <td>2020-01-30</td>\n",
              "      <td>2020-01-30</td>\n",
              "      <td>2020-01-30</td>\n",
              "      <td>2020-01-24</td>\n",
              "    </tr>\n",
              "    <tr>\n",
              "      <th>2</th>\n",
              "      <td>중랑구</td>\n",
              "      <td>강동구</td>\n",
              "      <td>강동구</td>\n",
              "      <td>강동구</td>\n",
              "      <td>강동구</td>\n",
              "      <td>강동구</td>\n",
              "      <td>강동구</td>\n",
              "      <td>강동구</td>\n",
              "      <td>강동구</td>\n",
              "      <td>강동구</td>\n",
              "      <td>양천구</td>\n",
              "      <td>광진구</td>\n",
              "      <td>영등포구</td>\n",
              "      <td>은평구</td>\n",
              "      <td>타시도</td>\n",
              "      <td>강서구</td>\n",
              "      <td>은평구</td>\n",
              "      <td>은평구</td>\n",
              "      <td>은평구</td>\n",
              "      <td>관악구</td>\n",
              "      <td>강동구</td>\n",
              "      <td>성북구</td>\n",
              "      <td>광진구</td>\n",
              "      <td>은평구</td>\n",
              "      <td>동대문구</td>\n",
              "      <td>동대문구</td>\n",
              "      <td>용산구</td>\n",
              "      <td>타시도</td>\n",
              "      <td>송파구</td>\n",
              "      <td>강동구</td>\n",
              "      <td>도봉구</td>\n",
              "      <td>동대문구</td>\n",
              "      <td>동대문구</td>\n",
              "      <td>중랑구</td>\n",
              "      <td>용산구</td>\n",
              "      <td>강동구</td>\n",
              "      <td>서초구</td>\n",
              "      <td>영등포구</td>\n",
              "      <td>도봉구</td>\n",
              "      <td>구로구</td>\n",
              "      <td>...</td>\n",
              "      <td>강동구</td>\n",
              "      <td>금천구</td>\n",
              "      <td>타시도</td>\n",
              "      <td>관악구</td>\n",
              "      <td>송파구</td>\n",
              "      <td>은평구</td>\n",
              "      <td>타시도</td>\n",
              "      <td>송파구</td>\n",
              "      <td>송파구</td>\n",
              "      <td>서초구</td>\n",
              "      <td>송파구</td>\n",
              "      <td>강동구</td>\n",
              "      <td>종로구</td>\n",
              "      <td>강서구</td>\n",
              "      <td>서초구</td>\n",
              "      <td>강동구</td>\n",
              "      <td>구로구</td>\n",
              "      <td>서초구</td>\n",
              "      <td>서대문구</td>\n",
              "      <td>종로구</td>\n",
              "      <td>성동구</td>\n",
              "      <td>종로구</td>\n",
              "      <td>타시도</td>\n",
              "      <td>종로구</td>\n",
              "      <td>종로구</td>\n",
              "      <td>성동구</td>\n",
              "      <td>종로구</td>\n",
              "      <td>종로구</td>\n",
              "      <td>타시도</td>\n",
              "      <td>서대문구</td>\n",
              "      <td>성북구</td>\n",
              "      <td>송파구</td>\n",
              "      <td>타시도</td>\n",
              "      <td>종로구</td>\n",
              "      <td>종로구</td>\n",
              "      <td>성북구</td>\n",
              "      <td>마포구</td>\n",
              "      <td>종로구</td>\n",
              "      <td>중랑구</td>\n",
              "      <td>강서구</td>\n",
              "    </tr>\n",
              "    <tr>\n",
              "      <th>3</th>\n",
              "      <td>감염경로 조사중</td>\n",
              "      <td>감염경로 조사중</td>\n",
              "      <td>감염경로 조사중</td>\n",
              "      <td>타시도 확진자 접촉</td>\n",
              "      <td>감염경로 조사중</td>\n",
              "      <td>감염경로 조사중</td>\n",
              "      <td>감염경로 조사중</td>\n",
              "      <td>서울시 소재 직장 관련</td>\n",
              "      <td>서울시 소재 직장 관련</td>\n",
              "      <td>서울시 소재 직장 관련</td>\n",
              "      <td>감염경로 조사중</td>\n",
              "      <td>광진구 소재 실내체육시설 관련</td>\n",
              "      <td>기타 확진자 접촉</td>\n",
              "      <td>감염경로 조사중</td>\n",
              "      <td>감염경로 조사중</td>\n",
              "      <td>감염경로 조사중</td>\n",
              "      <td>은평구 소재 종교시설(\\'21년 4월(2))</td>\n",
              "      <td>감염경로 조사중</td>\n",
              "      <td>감염경로 조사중</td>\n",
              "      <td>기타 확진자 접촉</td>\n",
              "      <td>타시도 확진자 접촉</td>\n",
              "      <td>기타 확진자 접촉</td>\n",
              "      <td>기타 확진자 접촉</td>\n",
              "      <td>기타 확진자 접촉</td>\n",
              "      <td>기타 확진자 접촉</td>\n",
              "      <td>기타 확진자 접촉</td>\n",
              "      <td>감염경로 조사중</td>\n",
              "      <td>은평구 소재 종교시설(\\'21년 4월(2))</td>\n",
              "      <td>병원 및 요양시설</td>\n",
              "      <td>감염경로 조사중</td>\n",
              "      <td>감염경로 조사중</td>\n",
              "      <td>기타 확진자 접촉</td>\n",
              "      <td>감염경로 조사중</td>\n",
              "      <td>기타 확진자 접촉</td>\n",
              "      <td>감염경로 조사중</td>\n",
              "      <td>감염경로 조사중</td>\n",
              "      <td>감염경로 조사중</td>\n",
              "      <td>동작구 소재 직장관련(\\'21.4.)</td>\n",
              "      <td>감염경로 조사중</td>\n",
              "      <td>서울시 소재 댄스연습실 관련</td>\n",
              "      <td>...</td>\n",
              "      <td>명성교회</td>\n",
              "      <td>해외유입</td>\n",
              "      <td>기타 확진자 접촉</td>\n",
              "      <td>기타 확진자 접촉</td>\n",
              "      <td>타시도 확진자 접촉</td>\n",
              "      <td>은평성모병원</td>\n",
              "      <td>기타 확진자 접촉</td>\n",
              "      <td>타시도 확진자 접촉</td>\n",
              "      <td>타시도 확진자 접촉</td>\n",
              "      <td>타시도 확진자 접촉</td>\n",
              "      <td>타시도 확진자 접촉</td>\n",
              "      <td>은평성모병원</td>\n",
              "      <td>은평성모병원</td>\n",
              "      <td>해외유입</td>\n",
              "      <td>타시도 확진자 접촉</td>\n",
              "      <td>은평성모병원</td>\n",
              "      <td>타시도 확진자 접촉</td>\n",
              "      <td>타시도 확진자 접촉</td>\n",
              "      <td>은평성모병원</td>\n",
              "      <td>종로구 집단발병</td>\n",
              "      <td>성동구 아파트 관리사무소</td>\n",
              "      <td>종로구 집단발병</td>\n",
              "      <td>타시도 확진자 접촉</td>\n",
              "      <td>종로구 집단발병</td>\n",
              "      <td>종로구 집단발병</td>\n",
              "      <td>성동구 아파트 관리사무소</td>\n",
              "      <td>종로구 집단발병</td>\n",
              "      <td>종로구 집단발병</td>\n",
              "      <td>해외유입</td>\n",
              "      <td>해외유입</td>\n",
              "      <td>종로구 집단발병</td>\n",
              "      <td>해외유입</td>\n",
              "      <td>해외유입</td>\n",
              "      <td>종로구 집단발병</td>\n",
              "      <td>종로구 집단발병</td>\n",
              "      <td>기타 확진자 접촉</td>\n",
              "      <td>해외유입</td>\n",
              "      <td>종로구 집단발병</td>\n",
              "      <td>해외유입</td>\n",
              "      <td>해외유입</td>\n",
              "    </tr>\n",
              "    <tr>\n",
              "      <th>4</th>\n",
              "      <td></td>\n",
              "      <td></td>\n",
              "      <td></td>\n",
              "      <td></td>\n",
              "      <td></td>\n",
              "      <td></td>\n",
              "      <td></td>\n",
              "      <td></td>\n",
              "      <td></td>\n",
              "      <td></td>\n",
              "      <td></td>\n",
              "      <td></td>\n",
              "      <td></td>\n",
              "      <td></td>\n",
              "      <td></td>\n",
              "      <td></td>\n",
              "      <td></td>\n",
              "      <td></td>\n",
              "      <td></td>\n",
              "      <td></td>\n",
              "      <td></td>\n",
              "      <td></td>\n",
              "      <td></td>\n",
              "      <td></td>\n",
              "      <td></td>\n",
              "      <td></td>\n",
              "      <td></td>\n",
              "      <td></td>\n",
              "      <td></td>\n",
              "      <td></td>\n",
              "      <td></td>\n",
              "      <td></td>\n",
              "      <td></td>\n",
              "      <td></td>\n",
              "      <td></td>\n",
              "      <td></td>\n",
              "      <td></td>\n",
              "      <td></td>\n",
              "      <td></td>\n",
              "      <td></td>\n",
              "      <td>...</td>\n",
              "      <td>퇴원</td>\n",
              "      <td>퇴원</td>\n",
              "      <td>퇴원</td>\n",
              "      <td>퇴원</td>\n",
              "      <td>퇴원</td>\n",
              "      <td>퇴원</td>\n",
              "      <td>퇴원</td>\n",
              "      <td>퇴원</td>\n",
              "      <td>퇴원</td>\n",
              "      <td>퇴원</td>\n",
              "      <td>퇴원</td>\n",
              "      <td>퇴원</td>\n",
              "      <td>퇴원</td>\n",
              "      <td>퇴원</td>\n",
              "      <td>퇴원</td>\n",
              "      <td>퇴원</td>\n",
              "      <td>퇴원</td>\n",
              "      <td>퇴원</td>\n",
              "      <td>퇴원</td>\n",
              "      <td>퇴원</td>\n",
              "      <td>퇴원</td>\n",
              "      <td>퇴원</td>\n",
              "      <td>퇴원</td>\n",
              "      <td>퇴원</td>\n",
              "      <td>퇴원</td>\n",
              "      <td>퇴원</td>\n",
              "      <td>퇴원</td>\n",
              "      <td>사망</td>\n",
              "      <td>퇴원</td>\n",
              "      <td>퇴원</td>\n",
              "      <td>퇴원</td>\n",
              "      <td>퇴원</td>\n",
              "      <td>퇴원</td>\n",
              "      <td>퇴원</td>\n",
              "      <td>퇴원</td>\n",
              "      <td>퇴원</td>\n",
              "      <td>퇴원</td>\n",
              "      <td>퇴원</td>\n",
              "      <td>퇴원</td>\n",
              "      <td>퇴원</td>\n",
              "    </tr>\n",
              "  </tbody>\n",
              "</table>\n",
              "<p>5 rows × 37126 columns</p>\n",
              "</div>"
            ],
            "text/plain": [
              "        0           1           2      ...       37123       37124       37125\n",
              "0       37126       37125       37124  ...           3           2           1\n",
              "1  2021-04-26  2021-04-26  2021-04-26  ...  2020-01-30  2020-01-30  2020-01-24\n",
              "2         중랑구         강동구         강동구  ...         종로구         중랑구         강서구\n",
              "3    감염경로 조사중    감염경로 조사중    감염경로 조사중  ...    종로구 집단발병        해외유입        해외유입\n",
              "4                                      ...          퇴원          퇴원          퇴원\n",
              "\n",
              "[5 rows x 37126 columns]"
            ]
          },
          "metadata": {
            "tags": []
          },
          "execution_count": 10
        }
      ]
    },
    {
      "cell_type": "code",
      "metadata": {
        "id": "ki_0g3uikBPM"
      },
      "source": [
        "df = pd.DataFrame([ids,corona_dates, address, corona_contact_detail, status]).T\n",
        "df.columns = ['NO','확진일','지역','접촉력','현재상태']"
      ],
      "execution_count": null,
      "outputs": []
    },
    {
      "cell_type": "code",
      "metadata": {
        "id": "lOXvYJ8Pj297",
        "colab": {
          "base_uri": "https://localhost:8080/",
          "height": 195
        },
        "outputId": "7632d220-8258-4664-c232-a2940db5de32"
      },
      "source": [
        "df.head()"
      ],
      "execution_count": null,
      "outputs": [
        {
          "output_type": "execute_result",
          "data": {
            "text/html": [
              "<div>\n",
              "<style scoped>\n",
              "    .dataframe tbody tr th:only-of-type {\n",
              "        vertical-align: middle;\n",
              "    }\n",
              "\n",
              "    .dataframe tbody tr th {\n",
              "        vertical-align: top;\n",
              "    }\n",
              "\n",
              "    .dataframe thead th {\n",
              "        text-align: right;\n",
              "    }\n",
              "</style>\n",
              "<table border=\"1\" class=\"dataframe\">\n",
              "  <thead>\n",
              "    <tr style=\"text-align: right;\">\n",
              "      <th></th>\n",
              "      <th>NO</th>\n",
              "      <th>확진일</th>\n",
              "      <th>지역</th>\n",
              "      <th>접촉력</th>\n",
              "      <th>현재상태</th>\n",
              "    </tr>\n",
              "  </thead>\n",
              "  <tbody>\n",
              "    <tr>\n",
              "      <th>0</th>\n",
              "      <td>37126</td>\n",
              "      <td>2021-04-26</td>\n",
              "      <td>중랑구</td>\n",
              "      <td>감염경로 조사중</td>\n",
              "      <td></td>\n",
              "    </tr>\n",
              "    <tr>\n",
              "      <th>1</th>\n",
              "      <td>37125</td>\n",
              "      <td>2021-04-26</td>\n",
              "      <td>강동구</td>\n",
              "      <td>감염경로 조사중</td>\n",
              "      <td></td>\n",
              "    </tr>\n",
              "    <tr>\n",
              "      <th>2</th>\n",
              "      <td>37124</td>\n",
              "      <td>2021-04-26</td>\n",
              "      <td>강동구</td>\n",
              "      <td>감염경로 조사중</td>\n",
              "      <td></td>\n",
              "    </tr>\n",
              "    <tr>\n",
              "      <th>3</th>\n",
              "      <td>37123</td>\n",
              "      <td>2021-04-26</td>\n",
              "      <td>강동구</td>\n",
              "      <td>타시도 확진자 접촉</td>\n",
              "      <td></td>\n",
              "    </tr>\n",
              "    <tr>\n",
              "      <th>4</th>\n",
              "      <td>37122</td>\n",
              "      <td>2021-04-26</td>\n",
              "      <td>강동구</td>\n",
              "      <td>감염경로 조사중</td>\n",
              "      <td></td>\n",
              "    </tr>\n",
              "  </tbody>\n",
              "</table>\n",
              "</div>"
            ],
            "text/plain": [
              "      NO         확진일   지역         접촉력 현재상태\n",
              "0  37126  2021-04-26  중랑구    감염경로 조사중     \n",
              "1  37125  2021-04-26  강동구    감염경로 조사중     \n",
              "2  37124  2021-04-26  강동구    감염경로 조사중     \n",
              "3  37123  2021-04-26  강동구  타시도 확진자 접촉     \n",
              "4  37122  2021-04-26  강동구    감염경로 조사중     "
            ]
          },
          "metadata": {
            "tags": []
          },
          "execution_count": 12
        }
      ]
    },
    {
      "cell_type": "code",
      "metadata": {
        "id": "bs5siGCXTgNJ",
        "colab": {
          "base_uri": "https://localhost:8080/"
        },
        "outputId": "ebab74cd-b320-405c-9519-2d54028c2b73"
      },
      "source": [
        "df.info()"
      ],
      "execution_count": null,
      "outputs": [
        {
          "output_type": "stream",
          "text": [
            "<class 'pandas.core.frame.DataFrame'>\n",
            "RangeIndex: 37126 entries, 0 to 37125\n",
            "Data columns (total 5 columns):\n",
            " #   Column  Non-Null Count  Dtype \n",
            "---  ------  --------------  ----- \n",
            " 0   NO      37126 non-null  object\n",
            " 1   확진일     37126 non-null  object\n",
            " 2   지역      37126 non-null  object\n",
            " 3   접촉력     37126 non-null  object\n",
            " 4   현재상태    37126 non-null  object\n",
            "dtypes: object(5)\n",
            "memory usage: 1.4+ MB\n"
          ],
          "name": "stdout"
        }
      ]
    },
    {
      "cell_type": "code",
      "metadata": {
        "id": "skO8oy63TjII",
        "colab": {
          "base_uri": "https://localhost:8080/",
          "height": 166
        },
        "outputId": "1c8bed13-1214-4a90-a0c3-ef8c4eca0d1b"
      },
      "source": [
        "# 데이터 통계 정보 확인\n",
        "df.describe()"
      ],
      "execution_count": null,
      "outputs": [
        {
          "output_type": "execute_result",
          "data": {
            "text/html": [
              "<div>\n",
              "<style scoped>\n",
              "    .dataframe tbody tr th:only-of-type {\n",
              "        vertical-align: middle;\n",
              "    }\n",
              "\n",
              "    .dataframe tbody tr th {\n",
              "        vertical-align: top;\n",
              "    }\n",
              "\n",
              "    .dataframe thead th {\n",
              "        text-align: right;\n",
              "    }\n",
              "</style>\n",
              "<table border=\"1\" class=\"dataframe\">\n",
              "  <thead>\n",
              "    <tr style=\"text-align: right;\">\n",
              "      <th></th>\n",
              "      <th>NO</th>\n",
              "      <th>확진일</th>\n",
              "      <th>지역</th>\n",
              "      <th>접촉력</th>\n",
              "      <th>현재상태</th>\n",
              "    </tr>\n",
              "  </thead>\n",
              "  <tbody>\n",
              "    <tr>\n",
              "      <th>count</th>\n",
              "      <td>37126</td>\n",
              "      <td>37126</td>\n",
              "      <td>37126</td>\n",
              "      <td>37126</td>\n",
              "      <td>37126</td>\n",
              "    </tr>\n",
              "    <tr>\n",
              "      <th>unique</th>\n",
              "      <td>37126</td>\n",
              "      <td>427</td>\n",
              "      <td>35</td>\n",
              "      <td>660</td>\n",
              "      <td>3</td>\n",
              "    </tr>\n",
              "    <tr>\n",
              "      <th>top</th>\n",
              "      <td>30188</td>\n",
              "      <td>2020-12-17</td>\n",
              "      <td>송파구</td>\n",
              "      <td>기타 확진자 접촉</td>\n",
              "      <td>퇴원</td>\n",
              "    </tr>\n",
              "    <tr>\n",
              "      <th>freq</th>\n",
              "      <td>1</td>\n",
              "      <td>588</td>\n",
              "      <td>2100</td>\n",
              "      <td>12046</td>\n",
              "      <td>34005</td>\n",
              "    </tr>\n",
              "  </tbody>\n",
              "</table>\n",
              "</div>"
            ],
            "text/plain": [
              "           NO         확진일     지역        접촉력   현재상태\n",
              "count   37126       37126  37126      37126  37126\n",
              "unique  37126         427     35        660      3\n",
              "top     30188  2020-12-17    송파구  기타 확진자 접촉     퇴원\n",
              "freq        1         588   2100      12046  34005"
            ]
          },
          "metadata": {
            "tags": []
          },
          "execution_count": 14
        }
      ]
    },
    {
      "cell_type": "code",
      "metadata": {
        "id": "J7eLz0hHUBPt",
        "colab": {
          "base_uri": "https://localhost:8080/"
        },
        "outputId": "ebf266e3-8049-4088-a161-0f4e16a0c047"
      },
      "source": [
        "# 확진일 열만 확인\n",
        "df['확진일']"
      ],
      "execution_count": null,
      "outputs": [
        {
          "output_type": "execute_result",
          "data": {
            "text/plain": [
              "0        2021-04-26\n",
              "1        2021-04-26\n",
              "2        2021-04-26\n",
              "3        2021-04-26\n",
              "4        2021-04-26\n",
              "            ...    \n",
              "37121    2020-01-31\n",
              "37122    2020-01-30\n",
              "37123    2020-01-30\n",
              "37124    2020-01-30\n",
              "37125    2020-01-24\n",
              "Name: 확진일, Length: 37126, dtype: object"
            ]
          },
          "metadata": {
            "tags": []
          },
          "execution_count": 15
        }
      ]
    },
    {
      "cell_type": "code",
      "metadata": {
        "id": "h65RtUWyVEqD",
        "colab": {
          "base_uri": "https://localhost:8080/"
        },
        "outputId": "383e427f-f748-492e-9ae3-bc42e92fcc83"
      },
      "source": [
        "# 확진일 열 카운팅\n",
        "df['확진일'].value_counts()"
      ],
      "execution_count": null,
      "outputs": [
        {
          "output_type": "execute_result",
          "data": {
            "text/plain": [
              "2020-12-17    588\n",
              "2020-12-24    568\n",
              "2020-12-28    523\n",
              "2020-12-25    430\n",
              "2020-12-16    427\n",
              "             ... \n",
              "2020-04-19      1\n",
              "2020-03-05      1\n",
              "2020-04-15      1\n",
              "2020-05-17      1\n",
              "2020-04-18      1\n",
              "Name: 확진일, Length: 427, dtype: int64"
            ]
          },
          "metadata": {
            "tags": []
          },
          "execution_count": 16
        }
      ]
    },
    {
      "cell_type": "code",
      "metadata": {
        "id": "wzBt49cjVFfb",
        "colab": {
          "base_uri": "https://localhost:8080/"
        },
        "outputId": "88d5c9fc-134c-440c-a26e-18234e5d0e8f"
      },
      "source": [
        "# 확진일 열 일자별 카운팅1\n",
        "df['확진일'].value_counts().sort_index()"
      ],
      "execution_count": null,
      "outputs": [
        {
          "output_type": "execute_result",
          "data": {
            "text/plain": [
              "2020-01-24      1\n",
              "2020-01-30      3\n",
              "2020-01-31      3\n",
              "2020-02-02      1\n",
              "2020-02-05      2\n",
              "             ... \n",
              "2021-04-22    204\n",
              "2021-04-23    253\n",
              "2021-04-24    175\n",
              "2021-04-25    154\n",
              "2021-04-26    116\n",
              "Name: 확진일, Length: 427, dtype: int64"
            ]
          },
          "metadata": {
            "tags": []
          },
          "execution_count": 17
        }
      ]
    },
    {
      "cell_type": "code",
      "metadata": {
        "id": "DZXI2m3HVGcU",
        "colab": {
          "base_uri": "https://localhost:8080/",
          "height": 282
        },
        "outputId": "e9b265ff-ea58-4876-cadc-a152ffd4c7aa"
      },
      "source": [
        "# 확진일 일자별 카운팅 시각화\n",
        "df['확진일'].value_counts().sort_index().plot()"
      ],
      "execution_count": null,
      "outputs": [
        {
          "output_type": "execute_result",
          "data": {
            "text/plain": [
              "<matplotlib.axes._subplots.AxesSubplot at 0x7f67025402d0>"
            ]
          },
          "metadata": {
            "tags": []
          },
          "execution_count": 18
        },
        {
          "output_type": "display_data",
          "data": {
            "image/png": "[encoded data removed]",
            "text/plain": [
              "<Figure size 432x288 with 1 Axes>"
            ]
          },
          "metadata": {
            "tags": [],
            "needs_background": "light"
          }
        }
      ]
    },
    {
      "cell_type": "code",
      "metadata": {
        "id": "R6EcRZ0HVQqp",
        "colab": {
          "base_uri": "https://localhost:8080/",
          "height": 329
        },
        "outputId": "4c80a518-0bc7-4f31-dd9c-bbc44178de0e"
      },
      "source": [
        "# 확진일 일자별 카운팅 시각화\n",
        "df['확진일'].value_counts()[-20:].sort_index().plot.bar()"
      ],
      "execution_count": null,
      "outputs": [
        {
          "output_type": "execute_result",
          "data": {
            "text/plain": [
              "<matplotlib.axes._subplots.AxesSubplot at 0x7f66fd444b50>"
            ]
          },
          "metadata": {
            "tags": []
          },
          "execution_count": 22
        },
        {
          "output_type": "display_data",
          "data": {
            "image/png": "[encoded data removed]",
            "text/plain": [
              "<Figure size 432x288 with 1 Axes>"
            ]
          },
          "metadata": {
            "tags": [],
            "needs_background": "light"
          }
        }
      ]
    },
    {
      "cell_type": "code",
      "metadata": {
        "id": "QZoIfpwQVUUa",
        "colab": {
          "base_uri": "https://localhost:8080/"
        },
        "outputId": "1dd9836c-b6ba-438a-d283-e6818a1207bf"
      },
      "source": [
        "# 접촉력 카운팅\n",
        "df['접촉력'].value_counts()"
      ],
      "execution_count": null,
      "outputs": [
        {
          "output_type": "execute_result",
          "data": {
            "text/plain": [
              "기타 확진자 접촉         12046\n",
              "감염경로 조사중           8896\n",
              "타시도 확진자 접촉         1757\n",
              "동부구치소 관련           1175\n",
              "해외유입               1056\n",
              "                  ...  \n",
              "수도권산악회(11월) 관련        1\n",
              "이에스에스콤글로벌             1\n",
              "영등포 소재 의료기관 관련        1\n",
              "강남구 오렌지라이프 관련         1\n",
              "용산구 음식점 관련            1\n",
              "Name: 접촉력, Length: 660, dtype: int64"
            ]
          },
          "metadata": {
            "tags": []
          },
          "execution_count": 23
        }
      ]
    },
    {
      "cell_type": "code",
      "metadata": {
        "id": "5GoSAGohVbGx",
        "colab": {
          "base_uri": "https://localhost:8080/",
          "height": 417
        },
        "outputId": "51fe7ddc-f072-4cf4-9440-a0c2e2f2a16e"
      },
      "source": [
        "# 접촉력 Top 10 시각화\n",
        "df['접촉력'].value_counts()[:10].plot.bar()"
      ],
      "execution_count": null,
      "outputs": [
        {
          "output_type": "execute_result",
          "data": {
            "text/plain": [
              "<matplotlib.axes._subplots.AxesSubplot at 0x7f66fd276b90>"
            ]
          },
          "metadata": {
            "tags": []
          },
          "execution_count": 24
        },
        {
          "output_type": "display_data",
          "data": {
            "image/png": "[encoded data removed]",
            "text/plain": [
              "<Figure size 432x288 with 1 Axes>"
            ]
          },
          "metadata": {
            "tags": [],
            "needs_background": "light"
          }
        }
      ]
    },
    {
      "cell_type": "code",
      "metadata": {
        "id": "0Ky1AtLIjZyb",
        "colab": {
          "base_uri": "https://localhost:8080/",
          "height": 417
        },
        "outputId": "67d3fbd1-4500-475f-8cd3-80057160d438"
      },
      "source": [
        "# 접촉력 Top 10 시각화\n",
        "df['접촉력'].value_counts()[3:13].plot.bar()"
      ],
      "execution_count": null,
      "outputs": [
        {
          "output_type": "execute_result",
          "data": {
            "text/plain": [
              "<matplotlib.axes._subplots.AxesSubplot at 0x7f66fd1f7090>"
            ]
          },
          "metadata": {
            "tags": []
          },
          "execution_count": 25
        },
        {
          "output_type": "display_data",
          "data": {
            "image/png": "[encoded data removed]",
            "text/plain": [
              "<Figure size 432x288 with 1 Axes>"
            ]
          },
          "metadata": {
            "tags": [],
            "needs_background": "light"
          }
        }
      ]
    },
    {
      "cell_type": "code",
      "metadata": {
        "id": "K-YMPbwSVdvR"
      },
      "source": [
        "# 확진 자치구 Top 10 시각화\n",
        "df['지역'].value_counts()[:10].plot.bar()"
      ],
      "execution_count": null,
      "outputs": []
    },
    {
      "cell_type": "code",
      "metadata": {
        "id": "vSZlqT-sV4gh",
        "colab": {
          "base_uri": "https://localhost:8080/",
          "height": 301
        },
        "outputId": "206f5745-6c43-4c87-cfcd-2b89efbe6075"
      },
      "source": [
        "# 2020년 8월 13일부터 확진 자치구 Top 10 시각화\n",
        "df[df['확진일']>='2020-08-13']['지역'].value_counts()[:10].plot.bar()"
      ],
      "execution_count": null,
      "outputs": [
        {
          "output_type": "execute_result",
          "data": {
            "text/plain": [
              "<matplotlib.axes._subplots.AxesSubplot at 0x7f66fd105650>"
            ]
          },
          "metadata": {
            "tags": []
          },
          "execution_count": 26
        },
        {
          "output_type": "display_data",
          "data": {
            "image/png": "[encoded data removed]",
            "text/plain": [
              "<Figure size 432x288 with 1 Axes>"
            ]
          },
          "metadata": {
            "tags": [],
            "needs_background": "light"
          }
        }
      ]
    },
    {
      "cell_type": "code",
      "metadata": {
        "id": "qqk9kfmQV5yI",
        "colab": {
          "base_uri": "https://localhost:8080/",
          "height": 310
        },
        "outputId": "9a1b8c07-3766-4eac-b2e1-a2d3c7d5aa07"
      },
      "source": [
        "# 2020년 8월 13일 이전 확진 자치구 Top 10 시각화\n",
        "df[df['확진일']<'2020-08-13']['지역'].value_counts()[:10].plot.bar()"
      ],
      "execution_count": null,
      "outputs": [
        {
          "output_type": "execute_result",
          "data": {
            "text/plain": [
              "<matplotlib.axes._subplots.AxesSubplot at 0x7f66fd0ef690>"
            ]
          },
          "metadata": {
            "tags": []
          },
          "execution_count": 27
        },
        {
          "output_type": "display_data",
          "data": {
            "image/png": "[encoded data removed]",
            "text/plain": [
              "<Figure size 432x288 with 1 Axes>"
            ]
          },
          "metadata": {
            "tags": [],
            "needs_background": "light"
          }
        }
      ]
    },
    {
      "cell_type": "code",
      "metadata": {
        "id": "dCw6L-sHd-55",
        "colab": {
          "base_uri": "https://localhost:8080/"
        },
        "outputId": "2f1ebd3b-da6a-47a7-e85a-c699eac1db9a"
      },
      "source": [
        "df[(df['확진일']<'2021-03-31') | (df['확진일'] > '2020-07-31')]['지역'].value_counts()[:10]"
      ],
      "execution_count": null,
      "outputs": [
        {
          "output_type": "execute_result",
          "data": {
            "text/plain": [
              "송파구    2100\n",
              "기타     2066\n",
              "강서구    1972\n",
              "강남구    1866\n",
              "타시도    1761\n",
              "관악구    1757\n",
              "중랑구    1657\n",
              "은평구    1654\n",
              "노원구    1648\n",
              "동작구    1567\n",
              "Name: 지역, dtype: int64"
            ]
          },
          "metadata": {
            "tags": []
          },
          "execution_count": 28
        }
      ]
    },
    {
      "cell_type": "code",
      "metadata": {
        "id": "YrwqdNp_V7zr"
      },
      "source": [
        "a = df[(df['확진일']<'2021-03-31') | (df['확진일'] > '2020-07-31')]['지역'].value_counts()[:10] / [673000,1000000,585000,544000,1000000,509000,399000,484000,527000,401000]"
      ],
      "execution_count": null,
      "outputs": []
    },
    {
      "cell_type": "code",
      "metadata": {
        "id": "Ks-J5rPvaf0S",
        "colab": {
          "base_uri": "https://localhost:8080/",
          "height": 301
        },
        "outputId": "48144454-349a-4117-87e0-03a727438a60"
      },
      "source": [
        "a.sort_values(ascending = False).plot.bar()"
      ],
      "execution_count": null,
      "outputs": [
        {
          "output_type": "execute_result",
          "data": {
            "text/plain": [
              "<matplotlib.axes._subplots.AxesSubplot at 0x7f66fd2ce590>"
            ]
          },
          "metadata": {
            "tags": []
          },
          "execution_count": 33
        },
        {
          "output_type": "display_data",
          "data": {
            "image/png": "[encoded data removed]",
            "text/plain": [
              "<Figure size 432x288 with 1 Axes>"
            ]
          },
          "metadata": {
            "tags": [],
            "needs_background": "light"
          }
        }
      ]
    },
    {
      "cell_type": "code",
      "metadata": {
        "id": "Nn8oPreIdbha"
      },
      "source": [
        ""
      ],
      "execution_count": null,
      "outputs": []
    }
  ]
}