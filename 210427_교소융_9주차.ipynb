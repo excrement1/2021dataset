{
  "nbformat": 4,
  "nbformat_minor": 0,
  "metadata": {
    "colab": {
      "name": "210427 교소융 9주차.ipynb",
      "provenance": [],
      "collapsed_sections": [],
      "authorship_tag": "ABX9TyNmdESHHG9fp3c2QeFqWeuk",
      "include_colab_link": true
    },
    "kernelspec": {
      "name": "python3",
      "display_name": "Python 3"
    },
    "language_info": {
      "name": "python"
    }
  },
  "cells": [
    {
      "cell_type": "markdown",
      "metadata": {
        "id": "view-in-github",
        "colab_type": "text"
      },
      "source": [
        "<a href=\"https://colab.research.google.com/github/excrement1/2021dataset/blob/master/210427_%EA%B5%90%EC%86%8C%EC%9C%B5_9%EC%A3%BC%EC%B0%A8.ipynb\" target=\"_parent\"><img src=\"https://colab.research.google.com/assets/colab-badge.svg\" alt=\"Open In Colab\"/></a>"
      ]
    },
    {
      "cell_type": "code",
      "metadata": {
        "id": "AZ85RLysyPA_"
      },
      "source": [
        "menu = {'짜장면':4500, '짬뽕':4500}"
      ],
      "execution_count": null,
      "outputs": []
    },
    {
      "cell_type": "code",
      "metadata": {
        "colab": {
          "base_uri": "https://localhost:8080/"
        },
        "id": "Qd7UB_sLyO7s",
        "outputId": "0f3df671-4bc5-49c4-f89e-42f833c3537f"
      },
      "source": [
        "menu['탕수육'] = 14000\n",
        "print(menu)"
      ],
      "execution_count": null,
      "outputs": [
        {
          "output_type": "stream",
          "text": [
            "{'짜장면': 4500, '짬뽕': 4500, '탕수육': 14000}\n"
          ],
          "name": "stdout"
        }
      ]
    },
    {
      "cell_type": "code",
      "metadata": {
        "colab": {
          "base_uri": "https://localhost:8080/"
        },
        "id": "uIGv3xz-yO2V",
        "outputId": "78796555-0fd2-4b60-e94e-1a5bb1bf2175"
      },
      "source": [
        "print(menu['탕수육'])"
      ],
      "execution_count": null,
      "outputs": [
        {
          "output_type": "stream",
          "text": [
            "14000\n"
          ],
          "name": "stdout"
        }
      ]
    },
    {
      "cell_type": "code",
      "metadata": {
        "colab": {
          "base_uri": "https://localhost:8080/"
        },
        "id": "jyYsG5yQyHzN",
        "outputId": "86caf616-5dc0-43bf-bc4b-da85df4113b5"
      },
      "source": [
        "name = input('먹고 싶은 메뉴를 골라주세요: ')\n",
        "print(menu[name])"
      ],
      "execution_count": null,
      "outputs": [
        {
          "output_type": "stream",
          "text": [
            "먹고 싶은 메뉴를 골라주세요: 탕수육\n",
            "14000\n"
          ],
          "name": "stdout"
        }
      ]
    },
    {
      "cell_type": "code",
      "metadata": {
        "colab": {
          "base_uri": "https://localhost:8080/"
        },
        "id": "ZknKx65eyjCh",
        "outputId": "08211be6-01bb-4d6d-f0bf-ff9caac7bad9"
      },
      "source": [
        "!apt -qq -y install fonts-nanum"
      ],
      "execution_count": null,
      "outputs": [
        {
          "output_type": "stream",
          "text": [
            "The following package was automatically installed and is no longer required:\n",
            "  libnvidia-common-460\n",
            "Use 'apt autoremove' to remove it.\n",
            "The following NEW packages will be installed:\n",
            "  fonts-nanum\n",
            "0 upgraded, 1 newly installed, 0 to remove and 34 not upgraded.\n",
            "Need to get 9,604 kB of archives.\n",
            "After this operation, 29.5 MB of additional disk space will be used.\n",
            "Selecting previously unselected package fonts-nanum.\n",
            "(Reading database ... 160690 files and directories currently installed.)\n",
            "Preparing to unpack .../fonts-nanum_20170925-1_all.deb ...\n",
            "Unpacking fonts-nanum (20170925-1) ...\n",
            "Setting up fonts-nanum (20170925-1) ...\n",
            "Processing triggers for fontconfig (2.12.6-0ubuntu2) ...\n"
          ],
          "name": "stdout"
        }
      ]
    },
    {
      "cell_type": "code",
      "metadata": {
        "id": "85oo4H1cy-sd"
      },
      "source": [
        "import matplotlib.pyplot as plt\n",
        "import matplotlib.font_manager as fm\n",
        "\n",
        "fontpath = 'usr/share/fonts/truetype/nanum/nanumGothic.ttf'\n",
        "font = fm.FontProperties(fname = fontpath, size = 10)\n",
        "fm._rebuild()\n",
        "#이후 런타임 다시 시작"
      ],
      "execution_count": null,
      "outputs": []
    },
    {
      "cell_type": "code",
      "metadata": {
        "colab": {
          "base_uri": "https://localhost:8080/",
          "height": 293
        },
        "id": "c6l8OTsKzq1W",
        "outputId": "f944c1f5-b262-454a-8fe2-acdad61aeee8"
      },
      "source": [
        "import matplotlib.pyplot as plt\n",
        "plt.rc('font', family = 'nanumGothic')\n",
        "plt.title('제목')\n",
        "plt.xlabel('엑스')\n",
        "plt.ylabel('와이', rotation = 0)\n",
        "plt.plot([1, 2, 3, 4, 7], ':', label='안녕')\n",
        "plt.legend()\n",
        "plt.show()\n"
      ],
      "execution_count": null,
      "outputs": [
        {
          "output_type": "display_data",
          "data": {
            "image/png": "[encoded data removed]",
            "text/plain": [
              "<Figure size 432x288 with 1 Axes>"
            ]
          },
          "metadata": {
            "tags": [],
            "needs_background": "light"
          }
        }
      ]
    },
    {
      "cell_type": "code",
      "metadata": {
        "colab": {
          "base_uri": "https://localhost:8080/"
        },
        "id": "G6hMO7TJ3eQd",
        "outputId": "ae4182b2-f748-4675-848f-e90b86c060d0"
      },
      "source": [
        "!git clone https://github.com/excrement1/2021dataset"
      ],
      "execution_count": null,
      "outputs": [
        {
          "output_type": "stream",
          "text": [
            "Cloning into '2021dataset'...\n",
            "remote: Enumerating objects: 83, done.\u001b[K\n",
            "remote: Counting objects: 100% (83/83), done.\u001b[K\n",
            "remote: Compressing objects: 100% (55/55), done.\u001b[K\n",
            "remote: Total 83 (delta 35), reused 69 (delta 28), pack-reused 0\u001b[K\n",
            "Unpacking objects: 100% (83/83), done.\n"
          ],
          "name": "stdout"
        }
      ]
    },
    {
      "cell_type": "code",
      "metadata": {
        "colab": {
          "base_uri": "https://localhost:8080/"
        },
        "id": "BQfc6WqQz1LW",
        "outputId": "46962021-ade6-4b18-ccef-8001dd2a6bad"
      },
      "source": [
        "ls"
      ],
      "execution_count": null,
      "outputs": [
        {
          "output_type": "stream",
          "text": [
            "2016height.csv\n",
            "\u001b[0m\u001b[01;34m2021dataset\u001b[0m/\n",
            "2021_신검_키몸무게프로젝트_선형회귀_프로젝트.ipynb\n",
            "2021_pandas_병아리반2_OpenAPI를_활용하여_코로나19_데이터_시각화하기.ipynb\n",
            "2021_pandas_병아리반_서울_코로나_데이터_시각화하기.ipynb\n",
            "age.csv\n",
            "age_gender.csv\n",
            "cafe.csv\n",
            "cafe.txt\n",
            "corona19.csv\n",
            "corona19_gg.csv\n",
            "corona19_seoul.csv\n",
            "신검데이터.csv\n",
            "daegu.csv\n",
            "신검데이터m.csv\n",
            "seoul.csv\n",
            "seoul_rain.csv\n",
            "seoul_temp.csv\n",
            "subway2008_pay.csv\n",
            "subway2008.xls\n",
            "subway2008.xlsx\n",
            "thelittleprince.png\n",
            "thelittleprince.txt\n",
            "tree.jpg\n"
          ],
          "name": "stdout"
        }
      ]
    },
    {
      "cell_type": "code",
      "metadata": {
        "colab": {
          "base_uri": "https://localhost:8080/"
        },
        "id": "pKYXVFe66s-e",
        "outputId": "20ce3245-7248-4bcd-99ce-d3b7907ca819"
      },
      "source": [
        "cd 2021dataset"
      ],
      "execution_count": null,
      "outputs": [
        {
          "output_type": "stream",
          "text": [
            "/content/2021dataset/2021dataset\n"
          ],
          "name": "stdout"
        }
      ]
    },
    {
      "cell_type": "code",
      "metadata": {
        "colab": {
          "base_uri": "https://localhost:8080/"
        },
        "id": "d2vqMHhK6vON",
        "outputId": "4c827d62-ead0-4b31-fafa-8d90276006a4"
      },
      "source": [
        "ls"
      ],
      "execution_count": null,
      "outputs": [
        {
          "output_type": "stream",
          "text": [
            "2016height.csv\n",
            "2021_신검_키몸무게프로젝트_선형회귀_프로젝트.ipynb\n",
            "2021_pandas_병아리반2_OpenAPI를_활용하여_코로나19_데이터_시각화하기.ipynb\n",
            "2021_pandas_병아리반_서울_코로나_데이터_시각화하기.ipynb\n",
            "age.csv\n",
            "age_gender.csv\n",
            "cafe.csv\n",
            "cafe.txt\n",
            "corona19.csv\n",
            "corona19_gg.csv\n",
            "corona19_seoul.csv\n",
            "corona.csv\n",
            "신검데이터.csv\n",
            "daegu.csv\n",
            "신검데이터m.csv\n",
            "seoul.csv\n",
            "seoul_rain.csv\n",
            "seoul_temp.csv\n",
            "subway2008_pay.csv\n",
            "subway2008.xls\n",
            "subway2008.xlsx\n",
            "thelittleprince.png\n",
            "thelittleprince.txt\n",
            "tree.jpg\n"
          ],
          "name": "stdout"
        }
      ]
    },
    {
      "cell_type": "code",
      "metadata": {
        "colab": {
          "base_uri": "https://localhost:8080/"
        },
        "id": "8BFUxcB86yZt",
        "outputId": "fd830db0-185d-46b3-f447-2d15ac5b07be"
      },
      "source": [
        "ls"
      ],
      "execution_count": null,
      "outputs": [
        {
          "output_type": "stream",
          "text": [
            "2016height.csv\n",
            "2021_신검_키몸무게프로젝트_선형회귀_프로젝트.ipynb\n",
            "2021_pandas_병아리반2_OpenAPI를_활용하여_코로나19_데이터_시각화하기.ipynb\n",
            "2021_pandas_병아리반_서울_코로나_데이터_시각화하기.ipynb\n",
            "age.csv\n",
            "age_gender.csv\n",
            "cafe.csv\n",
            "cafe.txt\n",
            "corona19.csv\n",
            "corona19_gg.csv\n",
            "corona19_seoul.csv\n",
            "신검데이터.csv\n",
            "daegu.csv\n",
            "신검데이터m.csv\n",
            "seoul.csv\n",
            "seoul_rain.csv\n",
            "seoul_temp.csv\n",
            "subway2008_pay.csv\n",
            "subway2008.xls\n",
            "subway2008.xlsx\n",
            "thelittleprince.png\n",
            "thelittleprince.txt\n",
            "tree.jpg\n"
          ],
          "name": "stdout"
        }
      ]
    },
    {
      "cell_type": "code",
      "metadata": {
        "colab": {
          "base_uri": "https://localhost:8080/",
          "height": 195
        },
        "id": "VWqOFipE9Sb_",
        "outputId": "7cf90a0d-9256-4613-8d81-73f670e964cb"
      },
      "source": [
        "import pandas as pd\n",
        "df = pd.read_csv('corona.csv', encoding = 'cp949')\n",
        "df.tail(5)"
      ],
      "execution_count": null,
      "outputs": [
        {
          "output_type": "execute_result",
          "data": {
            "text/html": [
              "<div>\n",
              "<style scoped>\n",
              "    .dataframe tbody tr th:only-of-type {\n",
              "        vertical-align: middle;\n",
              "    }\n",
              "\n",
              "    .dataframe tbody tr th {\n",
              "        vertical-align: top;\n",
              "    }\n",
              "\n",
              "    .dataframe thead th {\n",
              "        text-align: right;\n",
              "    }\n",
              "</style>\n",
              "<table border=\"1\" class=\"dataframe\">\n",
              "  <thead>\n",
              "    <tr style=\"text-align: right;\">\n",
              "      <th></th>\n",
              "      <th>연번</th>\n",
              "      <th>확진일</th>\n",
              "      <th>환자번호</th>\n",
              "      <th>국적</th>\n",
              "      <th>환자정보</th>\n",
              "      <th>지역</th>\n",
              "      <th>여행력</th>\n",
              "      <th>접촉력</th>\n",
              "      <th>조치사항</th>\n",
              "      <th>상태</th>\n",
              "      <th>이동경로</th>\n",
              "      <th>등록일</th>\n",
              "      <th>수정일</th>\n",
              "      <th>노출여부</th>\n",
              "    </tr>\n",
              "  </thead>\n",
              "  <tbody>\n",
              "    <tr>\n",
              "      <th>37121</th>\n",
              "      <td>5</td>\n",
              "      <td>2020-01-31</td>\n",
              "      <td>NaN</td>\n",
              "      <td>NaN</td>\n",
              "      <td>NaN</td>\n",
              "      <td>성북구</td>\n",
              "      <td>NaN</td>\n",
              "      <td>기타 확진자 접촉</td>\n",
              "      <td>NaN</td>\n",
              "      <td>퇴원</td>\n",
              "      <td>NaN</td>\n",
              "      <td>2021-03-24 10:53</td>\n",
              "      <td>2021-03-24 13:05</td>\n",
              "      <td>Y</td>\n",
              "    </tr>\n",
              "    <tr>\n",
              "      <th>37122</th>\n",
              "      <td>4</td>\n",
              "      <td>2020-01-30</td>\n",
              "      <td>NaN</td>\n",
              "      <td>NaN</td>\n",
              "      <td>NaN</td>\n",
              "      <td>마포구</td>\n",
              "      <td>중국</td>\n",
              "      <td>해외유입</td>\n",
              "      <td>NaN</td>\n",
              "      <td>퇴원</td>\n",
              "      <td>NaN</td>\n",
              "      <td>2021-03-24 10:53</td>\n",
              "      <td>2021-03-24 13:05</td>\n",
              "      <td>Y</td>\n",
              "    </tr>\n",
              "    <tr>\n",
              "      <th>37123</th>\n",
              "      <td>3</td>\n",
              "      <td>2020-01-30</td>\n",
              "      <td>NaN</td>\n",
              "      <td>NaN</td>\n",
              "      <td>NaN</td>\n",
              "      <td>종로구</td>\n",
              "      <td>NaN</td>\n",
              "      <td>종로구 집단발병</td>\n",
              "      <td>NaN</td>\n",
              "      <td>퇴원</td>\n",
              "      <td>NaN</td>\n",
              "      <td>2021-03-24 10:53</td>\n",
              "      <td>2021-03-24 13:05</td>\n",
              "      <td>Y</td>\n",
              "    </tr>\n",
              "    <tr>\n",
              "      <th>37124</th>\n",
              "      <td>2</td>\n",
              "      <td>2020-01-30</td>\n",
              "      <td>NaN</td>\n",
              "      <td>NaN</td>\n",
              "      <td>NaN</td>\n",
              "      <td>중랑구</td>\n",
              "      <td>중국</td>\n",
              "      <td>해외유입</td>\n",
              "      <td>NaN</td>\n",
              "      <td>퇴원</td>\n",
              "      <td>NaN</td>\n",
              "      <td>2021-03-24 10:53</td>\n",
              "      <td>2021-03-24 13:05</td>\n",
              "      <td>Y</td>\n",
              "    </tr>\n",
              "    <tr>\n",
              "      <th>37125</th>\n",
              "      <td>1</td>\n",
              "      <td>2020-01-24</td>\n",
              "      <td>NaN</td>\n",
              "      <td>NaN</td>\n",
              "      <td>NaN</td>\n",
              "      <td>강서구</td>\n",
              "      <td>중국</td>\n",
              "      <td>해외유입</td>\n",
              "      <td>NaN</td>\n",
              "      <td>퇴원</td>\n",
              "      <td>NaN</td>\n",
              "      <td>2021-03-24 10:53</td>\n",
              "      <td>2021-03-24 13:05</td>\n",
              "      <td>Y</td>\n",
              "    </tr>\n",
              "  </tbody>\n",
              "</table>\n",
              "</div>"
            ],
            "text/plain": [
              "       연번         확진일  환자번호  국적  ...  이동경로               등록일               수정일 노출여부\n",
              "37121   5  2020-01-31   NaN NaN  ...   NaN  2021-03-24 10:53  2021-03-24 13:05    Y\n",
              "37122   4  2020-01-30   NaN NaN  ...   NaN  2021-03-24 10:53  2021-03-24 13:05    Y\n",
              "37123   3  2020-01-30   NaN NaN  ...   NaN  2021-03-24 10:53  2021-03-24 13:05    Y\n",
              "37124   2  2020-01-30   NaN NaN  ...   NaN  2021-03-24 10:53  2021-03-24 13:05    Y\n",
              "37125   1  2020-01-24   NaN NaN  ...   NaN  2021-03-24 10:53  2021-03-24 13:05    Y\n",
              "\n",
              "[5 rows x 14 columns]"
            ]
          },
          "metadata": {
            "tags": []
          },
          "execution_count": 20
        }
      ]
    },
    {
      "cell_type": "code",
      "metadata": {
        "colab": {
          "base_uri": "https://localhost:8080/"
        },
        "id": "3XkZBQt19s8e",
        "outputId": "83eb583d-bc83-4a4d-85b7-71a647149d02"
      },
      "source": [
        "df.info()"
      ],
      "execution_count": null,
      "outputs": [
        {
          "output_type": "stream",
          "text": [
            "<class 'pandas.core.frame.DataFrame'>\n",
            "RangeIndex: 37126 entries, 0 to 37125\n",
            "Data columns (total 14 columns):\n",
            " #   Column  Non-Null Count  Dtype  \n",
            "---  ------  --------------  -----  \n",
            " 0   연번      37126 non-null  int64  \n",
            " 1   확진일     37126 non-null  object \n",
            " 2   환자번호    0 non-null      float64\n",
            " 3   국적      0 non-null      float64\n",
            " 4   환자정보    0 non-null      float64\n",
            " 5   지역      37126 non-null  object \n",
            " 6   여행력     1074 non-null   object \n",
            " 7   접촉력     37126 non-null  object \n",
            " 8   조치사항    0 non-null      float64\n",
            " 9   상태      34449 non-null  object \n",
            " 10  이동경로    0 non-null      float64\n",
            " 11  등록일     37126 non-null  object \n",
            " 12  수정일     37126 non-null  object \n",
            " 13  노출여부    37126 non-null  object \n",
            "dtypes: float64(5), int64(1), object(8)\n",
            "memory usage: 4.0+ MB\n"
          ],
          "name": "stdout"
        }
      ]
    },
    {
      "cell_type": "code",
      "metadata": {
        "colab": {
          "base_uri": "https://localhost:8080/",
          "height": 284
        },
        "id": "vU4LSdR9-VIV",
        "outputId": "de2af0ac-7db5-4751-f101-217744a51362"
      },
      "source": [
        "df.describe()"
      ],
      "execution_count": null,
      "outputs": [
        {
          "output_type": "execute_result",
          "data": {
            "text/html": [
              "<div>\n",
              "<style scoped>\n",
              "    .dataframe tbody tr th:only-of-type {\n",
              "        vertical-align: middle;\n",
              "    }\n",
              "\n",
              "    .dataframe tbody tr th {\n",
              "        vertical-align: top;\n",
              "    }\n",
              "\n",
              "    .dataframe thead th {\n",
              "        text-align: right;\n",
              "    }\n",
              "</style>\n",
              "<table border=\"1\" class=\"dataframe\">\n",
              "  <thead>\n",
              "    <tr style=\"text-align: right;\">\n",
              "      <th></th>\n",
              "      <th>연번</th>\n",
              "      <th>환자번호</th>\n",
              "      <th>국적</th>\n",
              "      <th>환자정보</th>\n",
              "      <th>조치사항</th>\n",
              "      <th>이동경로</th>\n",
              "    </tr>\n",
              "  </thead>\n",
              "  <tbody>\n",
              "    <tr>\n",
              "      <th>count</th>\n",
              "      <td>37126.000000</td>\n",
              "      <td>0.0</td>\n",
              "      <td>0.0</td>\n",
              "      <td>0.0</td>\n",
              "      <td>0.0</td>\n",
              "      <td>0.0</td>\n",
              "    </tr>\n",
              "    <tr>\n",
              "      <th>mean</th>\n",
              "      <td>18563.500000</td>\n",
              "      <td>NaN</td>\n",
              "      <td>NaN</td>\n",
              "      <td>NaN</td>\n",
              "      <td>NaN</td>\n",
              "      <td>NaN</td>\n",
              "    </tr>\n",
              "    <tr>\n",
              "      <th>std</th>\n",
              "      <td>10717.497384</td>\n",
              "      <td>NaN</td>\n",
              "      <td>NaN</td>\n",
              "      <td>NaN</td>\n",
              "      <td>NaN</td>\n",
              "      <td>NaN</td>\n",
              "    </tr>\n",
              "    <tr>\n",
              "      <th>min</th>\n",
              "      <td>1.000000</td>\n",
              "      <td>NaN</td>\n",
              "      <td>NaN</td>\n",
              "      <td>NaN</td>\n",
              "      <td>NaN</td>\n",
              "      <td>NaN</td>\n",
              "    </tr>\n",
              "    <tr>\n",
              "      <th>25%</th>\n",
              "      <td>9282.250000</td>\n",
              "      <td>NaN</td>\n",
              "      <td>NaN</td>\n",
              "      <td>NaN</td>\n",
              "      <td>NaN</td>\n",
              "      <td>NaN</td>\n",
              "    </tr>\n",
              "    <tr>\n",
              "      <th>50%</th>\n",
              "      <td>18563.500000</td>\n",
              "      <td>NaN</td>\n",
              "      <td>NaN</td>\n",
              "      <td>NaN</td>\n",
              "      <td>NaN</td>\n",
              "      <td>NaN</td>\n",
              "    </tr>\n",
              "    <tr>\n",
              "      <th>75%</th>\n",
              "      <td>27844.750000</td>\n",
              "      <td>NaN</td>\n",
              "      <td>NaN</td>\n",
              "      <td>NaN</td>\n",
              "      <td>NaN</td>\n",
              "      <td>NaN</td>\n",
              "    </tr>\n",
              "    <tr>\n",
              "      <th>max</th>\n",
              "      <td>37126.000000</td>\n",
              "      <td>NaN</td>\n",
              "      <td>NaN</td>\n",
              "      <td>NaN</td>\n",
              "      <td>NaN</td>\n",
              "      <td>NaN</td>\n",
              "    </tr>\n",
              "  </tbody>\n",
              "</table>\n",
              "</div>"
            ],
            "text/plain": [
              "                 연번  환자번호   국적  환자정보  조치사항  이동경로\n",
              "count  37126.000000   0.0  0.0   0.0   0.0   0.0\n",
              "mean   18563.500000   NaN  NaN   NaN   NaN   NaN\n",
              "std    10717.497384   NaN  NaN   NaN   NaN   NaN\n",
              "min        1.000000   NaN  NaN   NaN   NaN   NaN\n",
              "25%     9282.250000   NaN  NaN   NaN   NaN   NaN\n",
              "50%    18563.500000   NaN  NaN   NaN   NaN   NaN\n",
              "75%    27844.750000   NaN  NaN   NaN   NaN   NaN\n",
              "max    37126.000000   NaN  NaN   NaN   NaN   NaN"
            ]
          },
          "metadata": {
            "tags": []
          },
          "execution_count": 22
        }
      ]
    },
    {
      "cell_type": "code",
      "metadata": {
        "colab": {
          "base_uri": "https://localhost:8080/"
        },
        "id": "--RTbLy2-z0u",
        "outputId": "aadf89dd-0640-4840-f2ea-be2e42df91d3"
      },
      "source": [
        "df['확진일'].value_counts().sort_index()\n",
        "\n",
        "#df['확진일'] / +.value_counts() / sort_index() 차이 알 것"
      ],
      "execution_count": null,
      "outputs": [
        {
          "output_type": "execute_result",
          "data": {
            "text/plain": [
              "2020-01-24      1\n",
              "2020-01-30      3\n",
              "2020-01-31      3\n",
              "2020-02-02      1\n",
              "2020-02-05      2\n",
              "             ... \n",
              "2021-04-22    204\n",
              "2021-04-23    253\n",
              "2021-04-24    175\n",
              "2021-04-25    154\n",
              "2021-04-26    116\n",
              "Name: 확진일, Length: 427, dtype: int64"
            ]
          },
          "metadata": {
            "tags": []
          },
          "execution_count": 29
        }
      ]
    },
    {
      "cell_type": "code",
      "metadata": {
        "colab": {
          "base_uri": "https://localhost:8080/",
          "height": 654
        },
        "id": "Zt0ashoG_MCt",
        "outputId": "c8790179-80be-4749-ab5d-f83f2ac8a17b"
      },
      "source": [
        "fig = plt.figure(figsize = (20,10))\n",
        "df['확진일'].value_counts().sort_index()[:40].plot.bar()"
      ],
      "execution_count": null,
      "outputs": [
        {
          "output_type": "execute_result",
          "data": {
            "text/plain": [
              "<matplotlib.axes._subplots.AxesSubplot at 0x7f89eff67d90>"
            ]
          },
          "metadata": {
            "tags": []
          },
          "execution_count": 35
        },
        {
          "output_type": "display_data",
          "data": {
            "image/png": "[encoded data removed]",
            "text/plain": [
              "<Figure size 1440x720 with 1 Axes>"
            ]
          },
          "metadata": {
            "tags": [],
            "needs_background": "light"
          }
        }
      ]
    },
    {
      "cell_type": "code",
      "metadata": {
        "colab": {
          "base_uri": "https://localhost:8080/",
          "height": 417
        },
        "id": "vP3zafu3AGNF",
        "outputId": "39ce115d-79e5-4b0f-959b-2df62fe939ba"
      },
      "source": [
        "df['접촉력'].value_counts()[3:10].plot.bar()"
      ],
      "execution_count": null,
      "outputs": [
        {
          "output_type": "execute_result",
          "data": {
            "text/plain": [
              "<matplotlib.axes._subplots.AxesSubplot at 0x7f89eec5c450>"
            ]
          },
          "metadata": {
            "tags": []
          },
          "execution_count": 39
        },
        {
          "output_type": "display_data",
          "data": {
            "image/png": "[encoded data removed]",
            "text/plain": [
              "<Figure size 432x288 with 1 Axes>"
            ]
          },
          "metadata": {
            "tags": [],
            "needs_background": "light"
          }
        }
      ]
    },
    {
      "cell_type": "code",
      "metadata": {
        "id": "TT_ChPhwBFEe"
      },
      "source": [
        ""
      ],
      "execution_count": null,
      "outputs": []
    }
  ]
}